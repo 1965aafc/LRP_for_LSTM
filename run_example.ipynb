{
 "cells": [
  {
   "cell_type": "code",
   "execution_count": 1,
   "metadata": {
    "collapsed": true
   },
   "outputs": [],
   "source": [
    "from code.LSTM.LSTM_bidi import * \n",
    "from code.util.heatmap import html_heatmap\n",
    "\n",
    "import codecs\n",
    "import numpy as np\n",
    "from IPython.display import display, HTML"
   ]
  },
  {
   "cell_type": "markdown",
   "metadata": {},
   "source": [
    "This notebook performs LRP and SA on an exemplary word sequence, and for a chosen relevance target class. "
   ]
  },
  {
   "cell_type": "markdown",
   "metadata": {},
   "source": [
    "# Define word sequence and target class"
   ]
  },
  {
   "cell_type": "markdown",
   "metadata": {},
   "source": [
    "As a target class, you can freely choose one of the following classes:   0=very negative, 1=negative, 2=neutral, 3=positive, 4=very positive"
   ]
  },
  {
   "cell_type": "markdown",
   "metadata": {},
   "source": [
    "As an input word sequence, either select a sentence from the test set, or define your own sequence."
   ]
  },
  {
   "cell_type": "code",
   "execution_count": 2,
   "metadata": {
    "collapsed": true
   },
   "outputs": [],
   "source": [
    "def get_test_sentence(sent_idx):\n",
    "    \"\"\"Returns a test set sentence and its label, sent_idx must be an integer in [1, 2210]\"\"\"\n",
    "    idx = 1\n",
    "    with codecs.open(\"./data/sequence_test.txt\", 'r', encoding='utf8') as f:\n",
    "        for line in f:\n",
    "            line          = line.rstrip('\\n')\n",
    "            line          = line.split('\\t')\n",
    "            label         = int(line[0])-1         # true sentence class\n",
    "            words         = line[1].split(' | ')   # sentence words\n",
    "            if idx == sent_idx:\n",
    "                return words, label\n",
    "            idx +=1"
   ]
  },
  {
   "cell_type": "code",
   "execution_count": 3,
   "metadata": {},
   "outputs": [
    {
     "name": "stdout",
     "output_type": "stream",
     "text": [
      "['neither', 'funny', 'nor', 'suspenseful', 'nor', 'particularly', 'well-drawn', '.']\n",
      "0\n"
     ]
    }
   ],
   "source": [
    "# Select test sentence number 291:\n",
    "words, target_class = get_test_sentence(291)\n",
    "print(words)\n",
    "print(target_class)"
   ]
  },
  {
   "cell_type": "code",
   "execution_count": 4,
   "metadata": {
    "collapsed": true
   },
   "outputs": [],
   "source": [
    "# Uncomment to define own sequence (only words contained in the vocabulary are supported):\n",
    "# words        = ['i','hate','the','movie','though','the','plot','is','interesting','.']\n",
    "# words        = ['this','movie','was','actually','neither','that','funny',',','nor','super','witty','.']\n",
    "# target_class =  0             "
   ]
  },
  {
   "cell_type": "markdown",
   "metadata": {},
   "source": [
    "# Perform LRP"
   ]
  },
  {
   "cell_type": "code",
   "execution_count": 5,
   "metadata": {
    "collapsed": true
   },
   "outputs": [],
   "source": [
    "eps                 = 0.001\n",
    "bias_factor         = 0.0\n",
    " \n",
    "net                 = LSTM_bidi()\n",
    "\n",
    "w_indices           = [net.voc.index(w) for w in words]                 # convert to word IDs\n",
    "Rx, Rx_rev, R_rest  = net.lrp(w_indices, target_class, eps, bias_factor)# LRP through the net\n",
    "R_words             = np.sum(Rx + Rx_rev, axis=1)                       # word relevances\n",
    "\n",
    "scores              = net.s.copy()                                      # classification "
   ]
  },
  {
   "cell_type": "code",
   "execution_count": 6,
   "metadata": {},
   "outputs": [
    {
     "name": "stdout",
     "output_type": "stream",
     "text": [
      "prediction scores:         [ 2.73149687  2.7249559   0.80547211 -1.5359282  -4.6083298 ]\n",
      "\n",
      "LRP target class:          0\n",
      "\n",
      "LRP relevances:\n",
      "\t\t\t    1.86\tneither\n",
      "\t\t\t   -1.58\tfunny\n",
      "\t\t\t    1.50\tnor\n",
      "\t\t\t   -1.54\tsuspenseful\n",
      "\t\t\t    2.01\tnor\n",
      "\t\t\t   -0.04\tparticularly\n",
      "\t\t\t   -0.06\twell-drawn\n",
      "\t\t\t   -0.12\t.\n",
      "\n",
      "LRP heatmap:\n"
     ]
    },
    {
     "data": {
      "text/html": [
       "<span style=\"background-color:#ff1111\">neither</span> <span style=\"background-color:#3636ff\">funny</span> <span style=\"background-color:#ff4040\">nor</span> <span style=\"background-color:#3c3cff\">suspenseful</span> <span style=\"background-color:#ff0000\">nor</span> <span style=\"background-color:#fafaff\">particularly</span> <span style=\"background-color:#f8f8ff\">well-drawn</span> <span style=\"background-color:#f0f0ff\">.</span> \n"
      ],
      "text/plain": [
       "<IPython.core.display.HTML object>"
      ]
     },
     "metadata": {},
     "output_type": "display_data"
    }
   ],
   "source": [
    "print (\"prediction scores:        \",   scores)\n",
    "print (\"\\nLRP target class:         \", target_class)\n",
    "print (\"\\nLRP relevances:\")\n",
    "for idx, w in enumerate(words):\n",
    "    print (\"\\t\\t\\t\" + \"{:8.2f}\".format(R_words[idx]) + \"\\t\" + w)\n",
    "print (\"\\nLRP heatmap:\")    \n",
    "display(HTML(html_heatmap(words, R_words)))"
   ]
  },
  {
   "cell_type": "markdown",
   "metadata": {},
   "source": [
    "# Perform SA"
   ]
  },
  {
   "cell_type": "code",
   "execution_count": 7,
   "metadata": {
    "collapsed": true
   },
   "outputs": [],
   "source": [
    "net              = LSTM_bidi()\n",
    "\n",
    "w_indices        = [net.voc.index(w) for w in words]                 # convert to word IDs\n",
    "Gx, Gx_rev       = net.backward(w_indices, target_class)             # SA through the net\n",
    "G_words          = (np.linalg.norm(Gx + Gx_rev, ord=2, axis=1))**2   # word relevances\n",
    "\n",
    "scores           = net.s.copy()                                      # classification "
   ]
  },
  {
   "cell_type": "code",
   "execution_count": 8,
   "metadata": {},
   "outputs": [
    {
     "name": "stdout",
     "output_type": "stream",
     "text": [
      "prediction scores:        [ 2.73149687  2.7249559   0.80547211 -1.5359282  -4.6083298 ]\n",
      "\n",
      "SA target class:          0\n",
      "\n",
      "SA relevances:\n",
      "\t\t\t    5.01\tneither\n",
      "\t\t\t    0.35\tfunny\n",
      "\t\t\t    0.73\tnor\n",
      "\t\t\t    0.92\tsuspenseful\n",
      "\t\t\t    1.66\tnor\n",
      "\t\t\t    0.13\tparticularly\n",
      "\t\t\t    0.66\twell-drawn\n",
      "\t\t\t    0.32\t.\n",
      "\n",
      "SA heatmap:\n"
     ]
    },
    {
     "data": {
      "text/html": [
       "<span style=\"background-color:#ff0000\">neither</span> <span style=\"background-color:#ffeeee\">funny</span> <span style=\"background-color:#ffdada\">nor</span> <span style=\"background-color:#ffd0d0\">suspenseful</span> <span style=\"background-color:#ffaaaa\">nor</span> <span style=\"background-color:#fff8f8\">particularly</span> <span style=\"background-color:#ffdede\">well-drawn</span> <span style=\"background-color:#ffeeee\">.</span> \n"
      ],
      "text/plain": [
       "<IPython.core.display.HTML object>"
      ]
     },
     "metadata": {},
     "output_type": "display_data"
    }
   ],
   "source": [
    "print (\"prediction scores:       \",   scores)\n",
    "print (\"\\nSA target class:         \", target_class)\n",
    "print (\"\\nSA relevances:\")\n",
    "for idx, w in enumerate(words):\n",
    "    print (\"\\t\\t\\t\" + \"{:8.2f}\".format(G_words[idx]) + \"\\t\" + w)\n",
    "print (\"\\nSA heatmap:\")    \n",
    "display(HTML(html_heatmap(words, G_words)))"
   ]
  },
  {
   "cell_type": "code",
   "execution_count": null,
   "metadata": {
    "collapsed": true
   },
   "outputs": [],
   "source": []
  }
 ],
 "metadata": {
  "kernelspec": {
   "display_name": "Python 3",
   "language": "python",
   "name": "python3"
  },
  "language_info": {
   "codemirror_mode": {
    "name": "ipython",
    "version": 3
   },
   "file_extension": ".py",
   "mimetype": "text/x-python",
   "name": "python",
   "nbconvert_exporter": "python",
   "pygments_lexer": "ipython3",
   "version": "3.6.1"
  }
 },
 "nbformat": 4,
 "nbformat_minor": 2
}
